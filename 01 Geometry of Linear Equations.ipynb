{
 "cells": [
  {
   "cell_type": "markdown",
   "id": "b78e2bfe",
   "metadata": {},
   "source": [
    "$$\\begin{array}{rrrrrr}\n",
    "x&+2y&=&4\\\\\n",
    "3x&-y&=&5\n",
    "\\end{array}$$"
   ]
  },
  {
   "cell_type": "markdown",
   "id": "5c951a44",
   "metadata": {},
   "source": [
    "# Row View\n",
    "\n",
    "One row at a time.\n",
    "\n",
    "Not clear when the dimension becomes large.\n",
    "\n",
    "<img src='https://upload.wikimedia.org/wikipedia/commons/4/4c/Two_linear_equation_add_method.PNG' width=40%>\n",
    "\n",
    "[wikimedia](https://commons.wikimedia.org/wiki/File:Two_linear_equation_add_method.PNG)"
   ]
  },
  {
   "cell_type": "markdown",
   "id": "98158e74",
   "metadata": {},
   "source": [
    "# Column View (Prefered)\n",
    "\n",
    "One column at a time.\n",
    "\n",
    "Clear even when the dimension becomes large.\n",
    "\n",
    "$$\\begin{array}{cccccccc}\n",
    "x\\left[\\begin{array}{r}\n",
    "1\\\\\n",
    "3\n",
    "\\end{array}\\right]\n",
    "&\n",
    "+\n",
    "&\n",
    "y\\left[\\begin{array}{r}\n",
    "2\\\\\n",
    "-1\n",
    "\\end{array}\\right]\n",
    "&=&\n",
    "\\left[\\begin{array}{r}\n",
    "4\\\\\n",
    "5\n",
    "\\end{array}\\right]\n",
    "\\end{array}$$\n",
    "\n",
    "<img src='img/Screen Shot 2021-12-29 at 2.18.54 PM.png' width=60%>\n",
    "\n",
    "[Linear Combinations of Two Vectors](https://www.geogebra.org/m/sxMwsWhw)"
   ]
  },
  {
   "cell_type": "markdown",
   "id": "827ad4bc",
   "metadata": {},
   "source": [
    "# Matrix View (Combined Way of Thinking)\n",
    "\n",
    "$$\\begin{array}{ccc}\n",
    "\\left[\\begin{array}{rr}\n",
    "1&2\\\\\n",
    "3&-1\n",
    "\\end{array}\\right]\n",
    "&\n",
    "\\left[\\begin{array}{r}\n",
    "x\\\\\n",
    "y\n",
    "\\end{array}\\right]\n",
    "&=&\n",
    "\\left[\\begin{array}{r}\n",
    "4\\\\\n",
    "5\n",
    "\\end{array}\\right]\\\\\n",
    "{\\bf A}&{\\bf x}&=&{\\bf b}\n",
    "\\end{array}$$"
   ]
  },
  {
   "cell_type": "markdown",
   "id": "f1056dc5",
   "metadata": {},
   "source": [
    "# Questions\n",
    "\n",
    "Can I solve ${\\bf A}{\\bf x}={\\bf b}$?\n",
    "\n",
    "Can I solve ${\\bf A}{\\bf x}={\\bf b}$ for every ${\\bf b}$?\n",
    "\n",
    "Do the linear combinations of the columns of ${\\bf A}$ fill 2-D space?\n",
    "\n",
    "When don't the linear combinations of the columns of ${\\bf A}$ fill 2-D space?"
   ]
  },
  {
   "cell_type": "markdown",
   "id": "e6de3002",
   "metadata": {},
   "source": [
    "# Matrix Multiplication"
   ]
  },
  {
   "cell_type": "markdown",
   "id": "d4f01d73",
   "metadata": {},
   "source": [
    "$$\\begin{array}{lll}\n",
    "\\text{Not So Good Way}&&\n",
    "\\left[\\begin{array}{cc}\n",
    "1&2\\\\\n",
    "3&-1\n",
    "\\end{array}\\right]\n",
    "\\left[\\begin{array}{c}\n",
    "2\\\\\n",
    "3\n",
    "\\end{array}\\right]\n",
    "=\n",
    "\\left[\\begin{array}{c}\n",
    "1\\times2+2\\times3\\\\\n",
    "3\\times2-1\\times3\n",
    "\\end{array}\\right]\n",
    "\\\\\n",
    "\\text{Good Way}&&\n",
    "\\left[\\begin{array}{cc}\n",
    "1&2\\\\\n",
    "3&-1\n",
    "\\end{array}\\right]\n",
    "\\left[\\begin{array}{c}\n",
    "2\\\\\n",
    "3\n",
    "\\end{array}\\right]\n",
    "=\n",
    "2\n",
    "\\left[\\begin{array}{c}\n",
    "1\\\\\n",
    "3\n",
    "\\end{array}\\right]\n",
    "+\n",
    "3\n",
    "\\left[\\begin{array}{c}\n",
    "2\\\\\n",
    "-1\n",
    "\\end{array}\\right]\n",
    "\\end{array}$$"
   ]
  },
  {
   "cell_type": "markdown",
   "id": "841f06d8",
   "metadata": {},
   "source": [
    "$$\\begin{array}{lll}\n",
    "\\text{Not So Good Way}&&\n",
    "\\left[\\begin{array}{c}\n",
    "2&3\n",
    "\\end{array}\\right]\n",
    "\\left[\\begin{array}{cc}\n",
    "1&2\\\\\n",
    "3&-1\n",
    "\\end{array}\\right]\n",
    "=\n",
    "\\left[\\begin{array}{cc}\n",
    "2\\times1+3\\times3&2\\times2 -3\\times1\n",
    "\\end{array}\\right]\n",
    "\\\\\n",
    "\\text{Good Way}&&\n",
    "\\left[\\begin{array}{c}\n",
    "2&3\n",
    "\\end{array}\\right]\n",
    "\\left[\\begin{array}{cc}\n",
    "1&2\\\\\n",
    "3&-1\n",
    "\\end{array}\\right]\n",
    "=\n",
    "2\n",
    "\\left[\\begin{array}{cc}\n",
    "1&2\n",
    "\\end{array}\\right]\n",
    "+\n",
    "3\n",
    "\\left[\\begin{array}{cc}\n",
    "3&\n",
    "-1\n",
    "\\end{array}\\right]\n",
    "\\end{array}$$"
   ]
  },
  {
   "cell_type": "markdown",
   "id": "f923e3fb",
   "metadata": {},
   "source": [
    "# Reference\n",
    "\n",
    "[1. The Geometry of Linear Equations](https://www.youtube.com/watch?v=J7DzL2_Na80)"
   ]
  }
 ],
 "metadata": {
  "kernelspec": {
   "display_name": "Python 3",
   "language": "python",
   "name": "python3"
  },
  "language_info": {
   "codemirror_mode": {
    "name": "ipython",
    "version": 3
   },
   "file_extension": ".py",
   "mimetype": "text/x-python",
   "name": "python",
   "nbconvert_exporter": "python",
   "pygments_lexer": "ipython3",
   "version": "3.8.8"
  }
 },
 "nbformat": 4,
 "nbformat_minor": 5
}
